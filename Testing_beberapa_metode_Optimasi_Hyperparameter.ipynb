{
  "nbformat": 4,
  "nbformat_minor": 0,
  "metadata": {
    "colab": {
      "provenance": [],
      "authorship_tag": "ABX9TyOmAjVbX1b3ZA8e/wgmDaPE",
      "include_colab_link": true
    },
    "kernelspec": {
      "name": "python3",
      "display_name": "Python 3"
    },
    "language_info": {
      "name": "python"
    },
    "widgets": {
      "application/vnd.jupyter.widget-state+json": {
        "d8412b94b6c541909d9360c9dd784ab2": {
          "model_module": "@jupyter-widgets/controls",
          "model_name": "HBoxModel",
          "model_module_version": "1.5.0",
          "state": {
            "_dom_classes": [],
            "_model_module": "@jupyter-widgets/controls",
            "_model_module_version": "1.5.0",
            "_model_name": "HBoxModel",
            "_view_count": null,
            "_view_module": "@jupyter-widgets/controls",
            "_view_module_version": "1.5.0",
            "_view_name": "HBoxView",
            "box_style": "",
            "children": [
              "IPY_MODEL_bbbd90cb499545ccae0d3ed66ae8a3aa",
              "IPY_MODEL_9eddc4348d664f7aae0fc7fc50a1248d",
              "IPY_MODEL_f415ef5ce5a44d9e92dd09dc87c5def1"
            ],
            "layout": "IPY_MODEL_7cd7d94c80e6451dbfc397644fb40129"
          }
        },
        "bbbd90cb499545ccae0d3ed66ae8a3aa": {
          "model_module": "@jupyter-widgets/controls",
          "model_name": "HTMLModel",
          "model_module_version": "1.5.0",
          "state": {
            "_dom_classes": [],
            "_model_module": "@jupyter-widgets/controls",
            "_model_module_version": "1.5.0",
            "_model_name": "HTMLModel",
            "_view_count": null,
            "_view_module": "@jupyter-widgets/controls",
            "_view_module_version": "1.5.0",
            "_view_name": "HTMLView",
            "description": "",
            "description_tooltip": null,
            "layout": "IPY_MODEL_a2d1bc817f044e819724b61bd551c65f",
            "placeholder": "​",
            "style": "IPY_MODEL_e552e6d4d7b84435988328755c4dac3f",
            "value": "Optimization Progress: 100%"
          }
        },
        "9eddc4348d664f7aae0fc7fc50a1248d": {
          "model_module": "@jupyter-widgets/controls",
          "model_name": "FloatProgressModel",
          "model_module_version": "1.5.0",
          "state": {
            "_dom_classes": [],
            "_model_module": "@jupyter-widgets/controls",
            "_model_module_version": "1.5.0",
            "_model_name": "FloatProgressModel",
            "_view_count": null,
            "_view_module": "@jupyter-widgets/controls",
            "_view_module_version": "1.5.0",
            "_view_name": "ProgressView",
            "bar_style": "",
            "description": "",
            "description_tooltip": null,
            "layout": "IPY_MODEL_ffb85b97d60947d88ba17fe77d560f74",
            "max": 120,
            "min": 0,
            "orientation": "horizontal",
            "style": "IPY_MODEL_a81393d2b5af42cb95fbfbc59eab2856",
            "value": 120
          }
        },
        "f415ef5ce5a44d9e92dd09dc87c5def1": {
          "model_module": "@jupyter-widgets/controls",
          "model_name": "HTMLModel",
          "model_module_version": "1.5.0",
          "state": {
            "_dom_classes": [],
            "_model_module": "@jupyter-widgets/controls",
            "_model_module_version": "1.5.0",
            "_model_name": "HTMLModel",
            "_view_count": null,
            "_view_module": "@jupyter-widgets/controls",
            "_view_module_version": "1.5.0",
            "_view_name": "HTMLView",
            "description": "",
            "description_tooltip": null,
            "layout": "IPY_MODEL_ea3a60370fd0416487d80ba339b4c272",
            "placeholder": "​",
            "style": "IPY_MODEL_59b9183f2fc349f69afab3bc1cd5b867",
            "value": " 120/120 [00:34&lt;00:00, 10.74pipeline/s]"
          }
        },
        "7cd7d94c80e6451dbfc397644fb40129": {
          "model_module": "@jupyter-widgets/base",
          "model_name": "LayoutModel",
          "model_module_version": "1.2.0",
          "state": {
            "_model_module": "@jupyter-widgets/base",
            "_model_module_version": "1.2.0",
            "_model_name": "LayoutModel",
            "_view_count": null,
            "_view_module": "@jupyter-widgets/base",
            "_view_module_version": "1.2.0",
            "_view_name": "LayoutView",
            "align_content": null,
            "align_items": null,
            "align_self": null,
            "border": null,
            "bottom": null,
            "display": null,
            "flex": null,
            "flex_flow": null,
            "grid_area": null,
            "grid_auto_columns": null,
            "grid_auto_flow": null,
            "grid_auto_rows": null,
            "grid_column": null,
            "grid_gap": null,
            "grid_row": null,
            "grid_template_areas": null,
            "grid_template_columns": null,
            "grid_template_rows": null,
            "height": null,
            "justify_content": null,
            "justify_items": null,
            "left": null,
            "margin": null,
            "max_height": null,
            "max_width": null,
            "min_height": null,
            "min_width": null,
            "object_fit": null,
            "object_position": null,
            "order": null,
            "overflow": null,
            "overflow_x": null,
            "overflow_y": null,
            "padding": null,
            "right": null,
            "top": null,
            "visibility": "hidden",
            "width": null
          }
        },
        "a2d1bc817f044e819724b61bd551c65f": {
          "model_module": "@jupyter-widgets/base",
          "model_name": "LayoutModel",
          "model_module_version": "1.2.0",
          "state": {
            "_model_module": "@jupyter-widgets/base",
            "_model_module_version": "1.2.0",
            "_model_name": "LayoutModel",
            "_view_count": null,
            "_view_module": "@jupyter-widgets/base",
            "_view_module_version": "1.2.0",
            "_view_name": "LayoutView",
            "align_content": null,
            "align_items": null,
            "align_self": null,
            "border": null,
            "bottom": null,
            "display": null,
            "flex": null,
            "flex_flow": null,
            "grid_area": null,
            "grid_auto_columns": null,
            "grid_auto_flow": null,
            "grid_auto_rows": null,
            "grid_column": null,
            "grid_gap": null,
            "grid_row": null,
            "grid_template_areas": null,
            "grid_template_columns": null,
            "grid_template_rows": null,
            "height": null,
            "justify_content": null,
            "justify_items": null,
            "left": null,
            "margin": null,
            "max_height": null,
            "max_width": null,
            "min_height": null,
            "min_width": null,
            "object_fit": null,
            "object_position": null,
            "order": null,
            "overflow": null,
            "overflow_x": null,
            "overflow_y": null,
            "padding": null,
            "right": null,
            "top": null,
            "visibility": null,
            "width": null
          }
        },
        "e552e6d4d7b84435988328755c4dac3f": {
          "model_module": "@jupyter-widgets/controls",
          "model_name": "DescriptionStyleModel",
          "model_module_version": "1.5.0",
          "state": {
            "_model_module": "@jupyter-widgets/controls",
            "_model_module_version": "1.5.0",
            "_model_name": "DescriptionStyleModel",
            "_view_count": null,
            "_view_module": "@jupyter-widgets/base",
            "_view_module_version": "1.2.0",
            "_view_name": "StyleView",
            "description_width": ""
          }
        },
        "ffb85b97d60947d88ba17fe77d560f74": {
          "model_module": "@jupyter-widgets/base",
          "model_name": "LayoutModel",
          "model_module_version": "1.2.0",
          "state": {
            "_model_module": "@jupyter-widgets/base",
            "_model_module_version": "1.2.0",
            "_model_name": "LayoutModel",
            "_view_count": null,
            "_view_module": "@jupyter-widgets/base",
            "_view_module_version": "1.2.0",
            "_view_name": "LayoutView",
            "align_content": null,
            "align_items": null,
            "align_self": null,
            "border": null,
            "bottom": null,
            "display": null,
            "flex": null,
            "flex_flow": null,
            "grid_area": null,
            "grid_auto_columns": null,
            "grid_auto_flow": null,
            "grid_auto_rows": null,
            "grid_column": null,
            "grid_gap": null,
            "grid_row": null,
            "grid_template_areas": null,
            "grid_template_columns": null,
            "grid_template_rows": null,
            "height": null,
            "justify_content": null,
            "justify_items": null,
            "left": null,
            "margin": null,
            "max_height": null,
            "max_width": null,
            "min_height": null,
            "min_width": null,
            "object_fit": null,
            "object_position": null,
            "order": null,
            "overflow": null,
            "overflow_x": null,
            "overflow_y": null,
            "padding": null,
            "right": null,
            "top": null,
            "visibility": null,
            "width": null
          }
        },
        "a81393d2b5af42cb95fbfbc59eab2856": {
          "model_module": "@jupyter-widgets/controls",
          "model_name": "ProgressStyleModel",
          "model_module_version": "1.5.0",
          "state": {
            "_model_module": "@jupyter-widgets/controls",
            "_model_module_version": "1.5.0",
            "_model_name": "ProgressStyleModel",
            "_view_count": null,
            "_view_module": "@jupyter-widgets/base",
            "_view_module_version": "1.2.0",
            "_view_name": "StyleView",
            "bar_color": null,
            "description_width": ""
          }
        },
        "ea3a60370fd0416487d80ba339b4c272": {
          "model_module": "@jupyter-widgets/base",
          "model_name": "LayoutModel",
          "model_module_version": "1.2.0",
          "state": {
            "_model_module": "@jupyter-widgets/base",
            "_model_module_version": "1.2.0",
            "_model_name": "LayoutModel",
            "_view_count": null,
            "_view_module": "@jupyter-widgets/base",
            "_view_module_version": "1.2.0",
            "_view_name": "LayoutView",
            "align_content": null,
            "align_items": null,
            "align_self": null,
            "border": null,
            "bottom": null,
            "display": null,
            "flex": null,
            "flex_flow": null,
            "grid_area": null,
            "grid_auto_columns": null,
            "grid_auto_flow": null,
            "grid_auto_rows": null,
            "grid_column": null,
            "grid_gap": null,
            "grid_row": null,
            "grid_template_areas": null,
            "grid_template_columns": null,
            "grid_template_rows": null,
            "height": null,
            "justify_content": null,
            "justify_items": null,
            "left": null,
            "margin": null,
            "max_height": null,
            "max_width": null,
            "min_height": null,
            "min_width": null,
            "object_fit": null,
            "object_position": null,
            "order": null,
            "overflow": null,
            "overflow_x": null,
            "overflow_y": null,
            "padding": null,
            "right": null,
            "top": null,
            "visibility": null,
            "width": null
          }
        },
        "59b9183f2fc349f69afab3bc1cd5b867": {
          "model_module": "@jupyter-widgets/controls",
          "model_name": "DescriptionStyleModel",
          "model_module_version": "1.5.0",
          "state": {
            "_model_module": "@jupyter-widgets/controls",
            "_model_module_version": "1.5.0",
            "_model_name": "DescriptionStyleModel",
            "_view_count": null,
            "_view_module": "@jupyter-widgets/base",
            "_view_module_version": "1.2.0",
            "_view_name": "StyleView",
            "description_width": ""
          }
        }
      }
    }
  },
  "cells": [
    {
      "cell_type": "markdown",
      "metadata": {
        "id": "view-in-github",
        "colab_type": "text"
      },
      "source": [
        "<a href=\"https://colab.research.google.com/github/elangbijak4/AI-General/blob/main/Testing_beberapa_metode_Optimasi_Hyperparameter.ipynb\" target=\"_parent\"><img src=\"https://colab.research.google.com/assets/colab-badge.svg\" alt=\"Open In Colab\"/></a>"
      ]
    },
    {
      "cell_type": "markdown",
      "source": [
        "## Beberapa Metode Untuk Optimasi Hyperparameter: TPOT, Auto-sklearn, H2O AutoML, Bayesian Optimization, Hyperband, dan Genetic Algorithms untuk melakukan hyperparameter optimization pada dataset yang sama dan membandingkan hasilnya."
      ],
      "metadata": {
        "id": "4c_wPWViGZAz"
      }
    },
    {
      "cell_type": "code",
      "source": [
        "# Install necessary packages\n",
        "!pip install tpot"
      ],
      "metadata": {
        "colab": {
          "base_uri": "https://localhost:8080/"
        },
        "collapsed": true,
        "id": "Wchj5zWVoFVT",
        "outputId": "1f5aa6d6-f186-4195-827d-bf9fcdba4d0a"
      },
      "execution_count": 1,
      "outputs": [
        {
          "output_type": "stream",
          "name": "stdout",
          "text": [
            "Collecting tpot\n",
            "  Downloading TPOT-0.12.2-py3-none-any.whl (87 kB)\n",
            "\u001b[2K     \u001b[90m━━━━━━━━━━━━━━━━━━━━━━━━━━━━━━━━━━━━━━━━\u001b[0m \u001b[32m87.4/87.4 kB\u001b[0m \u001b[31m1.5 MB/s\u001b[0m eta \u001b[36m0:00:00\u001b[0m\n",
            "\u001b[?25hRequirement already satisfied: numpy>=1.16.3 in /usr/local/lib/python3.10/dist-packages (from tpot) (1.25.2)\n",
            "Requirement already satisfied: scipy>=1.3.1 in /usr/local/lib/python3.10/dist-packages (from tpot) (1.11.4)\n",
            "Collecting scikit-learn>=1.4.1 (from tpot)\n",
            "  Downloading scikit_learn-1.5.1-cp310-cp310-manylinux_2_17_x86_64.manylinux2014_x86_64.whl (13.4 MB)\n",
            "\u001b[2K     \u001b[90m━━━━━━━━━━━━━━━━━━━━━━━━━━━━━━━━━━━━━━━━\u001b[0m \u001b[32m13.4/13.4 MB\u001b[0m \u001b[31m20.7 MB/s\u001b[0m eta \u001b[36m0:00:00\u001b[0m\n",
            "\u001b[?25hCollecting deap>=1.2 (from tpot)\n",
            "  Downloading deap-1.4.1-cp310-cp310-manylinux_2_5_x86_64.manylinux1_x86_64.manylinux_2_17_x86_64.manylinux2014_x86_64.whl (135 kB)\n",
            "\u001b[2K     \u001b[90m━━━━━━━━━━━━━━━━━━━━━━━━━━━━━━━━━━━━━━━━\u001b[0m \u001b[32m135.4/135.4 kB\u001b[0m \u001b[31m7.5 MB/s\u001b[0m eta \u001b[36m0:00:00\u001b[0m\n",
            "\u001b[?25hCollecting update-checker>=0.16 (from tpot)\n",
            "  Downloading update_checker-0.18.0-py3-none-any.whl (7.0 kB)\n",
            "Requirement already satisfied: tqdm>=4.36.1 in /usr/local/lib/python3.10/dist-packages (from tpot) (4.66.4)\n",
            "Collecting stopit>=1.1.1 (from tpot)\n",
            "  Downloading stopit-1.1.2.tar.gz (18 kB)\n",
            "  Preparing metadata (setup.py) ... \u001b[?25l\u001b[?25hdone\n",
            "Requirement already satisfied: pandas>=0.24.2 in /usr/local/lib/python3.10/dist-packages (from tpot) (2.0.3)\n",
            "Requirement already satisfied: joblib>=0.13.2 in /usr/local/lib/python3.10/dist-packages (from tpot) (1.4.2)\n",
            "Requirement already satisfied: xgboost>=1.1.0 in /usr/local/lib/python3.10/dist-packages (from tpot) (2.0.3)\n",
            "Requirement already satisfied: python-dateutil>=2.8.2 in /usr/local/lib/python3.10/dist-packages (from pandas>=0.24.2->tpot) (2.8.2)\n",
            "Requirement already satisfied: pytz>=2020.1 in /usr/local/lib/python3.10/dist-packages (from pandas>=0.24.2->tpot) (2023.4)\n",
            "Requirement already satisfied: tzdata>=2022.1 in /usr/local/lib/python3.10/dist-packages (from pandas>=0.24.2->tpot) (2024.1)\n",
            "Requirement already satisfied: threadpoolctl>=3.1.0 in /usr/local/lib/python3.10/dist-packages (from scikit-learn>=1.4.1->tpot) (3.5.0)\n",
            "Requirement already satisfied: requests>=2.3.0 in /usr/local/lib/python3.10/dist-packages (from update-checker>=0.16->tpot) (2.31.0)\n",
            "Requirement already satisfied: six>=1.5 in /usr/local/lib/python3.10/dist-packages (from python-dateutil>=2.8.2->pandas>=0.24.2->tpot) (1.16.0)\n",
            "Requirement already satisfied: charset-normalizer<4,>=2 in /usr/local/lib/python3.10/dist-packages (from requests>=2.3.0->update-checker>=0.16->tpot) (3.3.2)\n",
            "Requirement already satisfied: idna<4,>=2.5 in /usr/local/lib/python3.10/dist-packages (from requests>=2.3.0->update-checker>=0.16->tpot) (3.7)\n",
            "Requirement already satisfied: urllib3<3,>=1.21.1 in /usr/local/lib/python3.10/dist-packages (from requests>=2.3.0->update-checker>=0.16->tpot) (2.0.7)\n",
            "Requirement already satisfied: certifi>=2017.4.17 in /usr/local/lib/python3.10/dist-packages (from requests>=2.3.0->update-checker>=0.16->tpot) (2024.6.2)\n",
            "Building wheels for collected packages: stopit\n",
            "  Building wheel for stopit (setup.py) ... \u001b[?25l\u001b[?25hdone\n",
            "  Created wheel for stopit: filename=stopit-1.1.2-py3-none-any.whl size=11938 sha256=028284b432c9821a0b123e5a7ee1d48db0083c4835ba3029f37a31ec37f9b541\n",
            "  Stored in directory: /root/.cache/pip/wheels/af/f9/87/bf5b3d565c2a007b4dae9d8142dccc85a9f164e517062dd519\n",
            "Successfully built stopit\n",
            "Installing collected packages: stopit, deap, update-checker, scikit-learn, tpot\n",
            "  Attempting uninstall: scikit-learn\n",
            "    Found existing installation: scikit-learn 1.2.2\n",
            "    Uninstalling scikit-learn-1.2.2:\n",
            "      Successfully uninstalled scikit-learn-1.2.2\n",
            "Successfully installed deap-1.4.1 scikit-learn-1.5.1 stopit-1.1.2 tpot-0.12.2 update-checker-0.18.0\n"
          ]
        }
      ]
    },
    {
      "cell_type": "code",
      "source": [
        "!pip install auto-sklearn==0.15.0"
      ],
      "metadata": {
        "id": "bUeeru7BoV5R"
      },
      "execution_count": null,
      "outputs": []
    },
    {
      "cell_type": "code",
      "source": [
        "!pip install h2o"
      ],
      "metadata": {
        "id": "FivKy7akoXm8",
        "outputId": "a0effb5d-da9a-47c9-a9ce-30059d900d5b",
        "colab": {
          "base_uri": "https://localhost:8080/"
        }
      },
      "execution_count": 3,
      "outputs": [
        {
          "output_type": "stream",
          "name": "stdout",
          "text": [
            "Collecting h2o\n",
            "  Downloading h2o-3.46.0.3.tar.gz (265.3 MB)\n",
            "\u001b[2K     \u001b[90m━━━━━━━━━━━━━━━━━━━━━━━━━━━━━━━━━━━━━━━━\u001b[0m \u001b[32m265.3/265.3 MB\u001b[0m \u001b[31m3.6 MB/s\u001b[0m eta \u001b[36m0:00:00\u001b[0m\n",
            "\u001b[?25h  Preparing metadata (setup.py) ... \u001b[?25l\u001b[?25hdone\n",
            "Requirement already satisfied: requests in /usr/local/lib/python3.10/dist-packages (from h2o) (2.31.0)\n",
            "Requirement already satisfied: tabulate in /usr/local/lib/python3.10/dist-packages (from h2o) (0.9.0)\n",
            "Requirement already satisfied: charset-normalizer<4,>=2 in /usr/local/lib/python3.10/dist-packages (from requests->h2o) (3.3.2)\n",
            "Requirement already satisfied: idna<4,>=2.5 in /usr/local/lib/python3.10/dist-packages (from requests->h2o) (3.7)\n",
            "Requirement already satisfied: urllib3<3,>=1.21.1 in /usr/local/lib/python3.10/dist-packages (from requests->h2o) (2.0.7)\n",
            "Requirement already satisfied: certifi>=2017.4.17 in /usr/local/lib/python3.10/dist-packages (from requests->h2o) (2024.6.2)\n",
            "Building wheels for collected packages: h2o\n",
            "  Building wheel for h2o (setup.py) ... \u001b[?25l\u001b[?25hdone\n",
            "  Created wheel for h2o: filename=h2o-3.46.0.3-py2.py3-none-any.whl size=265365897 sha256=578523aa65120dafcbeb5f39b4b4d7a4acb5676333e0134a82ad886a36c1ec42\n",
            "  Stored in directory: /root/.cache/pip/wheels/c4/63/41/baa115b5255e1db3e2383bce4e2e6181746aac0b42264c242f\n",
            "Successfully built h2o\n",
            "Installing collected packages: h2o\n",
            "Successfully installed h2o-3.46.0.3\n"
          ]
        }
      ]
    },
    {
      "cell_type": "code",
      "source": [
        "!pip install bayesian-optimization"
      ],
      "metadata": {
        "id": "lM6t_Ri3ocRm",
        "outputId": "c8eeb7b8-d7e1-4daa-a807-f6f1912b3ede",
        "colab": {
          "base_uri": "https://localhost:8080/"
        }
      },
      "execution_count": 4,
      "outputs": [
        {
          "output_type": "stream",
          "name": "stdout",
          "text": [
            "Collecting bayesian-optimization\n",
            "  Downloading bayesian_optimization-1.5.0-py3-none-any.whl (28 kB)\n",
            "Collecting colorama<0.5.0,>=0.4.6 (from bayesian-optimization)\n",
            "  Downloading colorama-0.4.6-py2.py3-none-any.whl (25 kB)\n",
            "Requirement already satisfied: numpy<2.0.0,>=1.9.0 in /usr/local/lib/python3.10/dist-packages (from bayesian-optimization) (1.25.2)\n",
            "Requirement already satisfied: scikit-learn<2.0.0,>=1.0.0 in /usr/local/lib/python3.10/dist-packages (from bayesian-optimization) (1.5.1)\n",
            "Requirement already satisfied: scipy<2.0.0,>=1.0.0 in /usr/local/lib/python3.10/dist-packages (from bayesian-optimization) (1.11.4)\n",
            "Requirement already satisfied: joblib>=1.2.0 in /usr/local/lib/python3.10/dist-packages (from scikit-learn<2.0.0,>=1.0.0->bayesian-optimization) (1.4.2)\n",
            "Requirement already satisfied: threadpoolctl>=3.1.0 in /usr/local/lib/python3.10/dist-packages (from scikit-learn<2.0.0,>=1.0.0->bayesian-optimization) (3.5.0)\n",
            "Installing collected packages: colorama, bayesian-optimization\n",
            "Successfully installed bayesian-optimization-1.5.0 colorama-0.4.6\n"
          ]
        }
      ]
    },
    {
      "cell_type": "code",
      "source": [
        "!pip install hpbandster"
      ],
      "metadata": {
        "id": "kyp7V7M1ofIt"
      },
      "execution_count": null,
      "outputs": []
    },
    {
      "cell_type": "code",
      "source": [
        "!pip install deap"
      ],
      "metadata": {
        "id": "3KY0vdm-ojQR",
        "outputId": "039065e4-1117-436d-a2d9-aed36ce531af",
        "colab": {
          "base_uri": "https://localhost:8080/"
        }
      },
      "execution_count": 6,
      "outputs": [
        {
          "output_type": "stream",
          "name": "stdout",
          "text": [
            "Requirement already satisfied: deap in /usr/local/lib/python3.10/dist-packages (1.4.1)\n",
            "Requirement already satisfied: numpy in /usr/local/lib/python3.10/dist-packages (from deap) (1.25.2)\n"
          ]
        }
      ]
    },
    {
      "cell_type": "code",
      "source": [
        "!apt-get install swig"
      ],
      "metadata": {
        "id": "f14b6kWqok-V"
      },
      "execution_count": null,
      "outputs": []
    },
    {
      "cell_type": "code",
      "source": [
        "!pip install --upgrade pip"
      ],
      "metadata": {
        "id": "CPLwmrq_pnfU"
      },
      "execution_count": null,
      "outputs": []
    },
    {
      "cell_type": "code",
      "source": [
        "!pip install auto-sklearn"
      ],
      "metadata": {
        "id": "8PPNzUuvrPfG"
      },
      "execution_count": null,
      "outputs": []
    },
    {
      "cell_type": "code",
      "source": [
        "!pip install --upgrade --force-reinstall auto-sklearn"
      ],
      "metadata": {
        "id": "lmo9qwrNsShR"
      },
      "execution_count": null,
      "outputs": []
    },
    {
      "cell_type": "code",
      "source": [
        "import numpy as np\n",
        "import pandas as pd\n",
        "from sklearn.datasets import load_iris\n",
        "from sklearn.model_selection import train_test_split\n",
        "from sklearn.metrics import accuracy_score"
      ],
      "metadata": {
        "id": "go2SQGasnymr"
      },
      "execution_count": 11,
      "outputs": []
    },
    {
      "cell_type": "code",
      "source": [
        "# Load dataset\n",
        "data = load_iris()\n",
        "X, y = data.data, data.target\n",
        "X_train, X_test, y_train, y_test = train_test_split(X, y, train_size=0.75, random_state=42)"
      ],
      "metadata": {
        "id": "D39R5HgZs_5o"
      },
      "execution_count": 12,
      "outputs": []
    },
    {
      "cell_type": "code",
      "source": [
        "# TPOT\n",
        "from tpot import TPOTClassifier\n",
        "\n",
        "tpot = TPOTClassifier(verbosity=2, generations=5, population_size=20, random_state=42)\n",
        "tpot.fit(X_train, y_train)\n",
        "tpot_predictions = tpot.predict(X_test)\n",
        "tpot_accuracy = accuracy_score(y_test, tpot_predictions)\n",
        "tpot.export('tpot_best_pipeline.py')"
      ],
      "metadata": {
        "id": "H9nN21SltDjd",
        "outputId": "ab267d58-1ee0-4845-f85c-68ce8a7c3db5",
        "colab": {
          "base_uri": "https://localhost:8080/",
          "height": 225,
          "referenced_widgets": [
            "d8412b94b6c541909d9360c9dd784ab2",
            "bbbd90cb499545ccae0d3ed66ae8a3aa",
            "9eddc4348d664f7aae0fc7fc50a1248d",
            "f415ef5ce5a44d9e92dd09dc87c5def1",
            "7cd7d94c80e6451dbfc397644fb40129",
            "a2d1bc817f044e819724b61bd551c65f",
            "e552e6d4d7b84435988328755c4dac3f",
            "ffb85b97d60947d88ba17fe77d560f74",
            "a81393d2b5af42cb95fbfbc59eab2856",
            "ea3a60370fd0416487d80ba339b4c272",
            "59b9183f2fc349f69afab3bc1cd5b867"
          ]
        }
      },
      "execution_count": 13,
      "outputs": [
        {
          "output_type": "display_data",
          "data": {
            "text/plain": [
              "Optimization Progress:   0%|          | 0/120 [00:00<?, ?pipeline/s]"
            ],
            "application/vnd.jupyter.widget-view+json": {
              "version_major": 2,
              "version_minor": 0,
              "model_id": "d8412b94b6c541909d9360c9dd784ab2"
            }
          },
          "metadata": {}
        },
        {
          "output_type": "stream",
          "name": "stdout",
          "text": [
            "\n",
            "Generation 1 - Current best internal CV score: 0.9727272727272727\n",
            "\n",
            "Generation 2 - Current best internal CV score: 0.9727272727272727\n",
            "\n",
            "Generation 3 - Current best internal CV score: 0.9727272727272727\n",
            "\n",
            "Generation 4 - Current best internal CV score: 0.9727272727272727\n",
            "\n",
            "Generation 5 - Current best internal CV score: 0.9727272727272727\n",
            "\n",
            "Best pipeline: MLPClassifier(input_matrix, alpha=0.0001, learning_rate_init=0.001)\n"
          ]
        }
      ]
    },
    {
      "cell_type": "code",
      "source": [
        "# Auto-sklearn\n",
        "try:\n",
        "    import autosklearn.classification\n",
        "\n",
        "    automl = autosklearn.classification.AutoSklearnClassifier(time_left_for_this_task=600, per_run_time_limit=30)\n",
        "    automl.fit(X_train, y_train)\n",
        "    automl_predictions = automl.predict(X_test)\n",
        "    automl_accuracy = accuracy_score(y_test, automl_predictions)\n",
        "except ImportError:\n",
        "    print(\"Auto-sklearn tidak ditemukan. Pastikan Auto-sklearn sudah terinstal dengan benar.\")\n",
        "    automl_accuracy = None"
      ],
      "metadata": {
        "id": "sLuI1HM0tH9f",
        "outputId": "2b5c573f-d322-4f93-d9f0-4697fbcdfd23",
        "colab": {
          "base_uri": "https://localhost:8080/"
        }
      },
      "execution_count": 14,
      "outputs": [
        {
          "output_type": "stream",
          "name": "stdout",
          "text": [
            "Auto-sklearn tidak ditemukan. Pastikan Auto-sklearn sudah terinstal dengan benar.\n"
          ]
        }
      ]
    },
    {
      "cell_type": "code",
      "source": [
        "# H2O AutoML\n",
        "import h2o\n",
        "from h2o.automl import H2OAutoML\n",
        "h2o.init()"
      ],
      "metadata": {
        "id": "xR_Avbh3tMLg",
        "outputId": "d8b62d0e-3322-407c-be6c-e8b5c41a6892",
        "colab": {
          "base_uri": "https://localhost:8080/",
          "height": 537
        }
      },
      "execution_count": 15,
      "outputs": [
        {
          "output_type": "stream",
          "name": "stdout",
          "text": [
            "Checking whether there is an H2O instance running at http://localhost:54321..... not found.\n",
            "Attempting to start a local H2O server...\n",
            "  Java Version: openjdk version \"11.0.23\" 2024-04-16; OpenJDK Runtime Environment (build 11.0.23+9-post-Ubuntu-1ubuntu122.04.1); OpenJDK 64-Bit Server VM (build 11.0.23+9-post-Ubuntu-1ubuntu122.04.1, mixed mode, sharing)\n",
            "  Starting server from /usr/local/lib/python3.10/dist-packages/h2o/backend/bin/h2o.jar\n",
            "  Ice root: /tmp/tmpe_lszm2z\n",
            "  JVM stdout: /tmp/tmpe_lszm2z/h2o_unknownUser_started_from_python.out\n",
            "  JVM stderr: /tmp/tmpe_lszm2z/h2o_unknownUser_started_from_python.err\n",
            "  Server is running at http://127.0.0.1:54321\n",
            "Connecting to H2O server at http://127.0.0.1:54321 ... successful.\n"
          ]
        },
        {
          "output_type": "display_data",
          "data": {
            "text/plain": [
              "--------------------------  -----------------------------------------------------------------------------------------\n",
              "H2O_cluster_uptime:         05 secs\n",
              "H2O_cluster_timezone:       Etc/UTC\n",
              "H2O_data_parsing_timezone:  UTC\n",
              "H2O_cluster_version:        3.46.0.3\n",
              "H2O_cluster_version_age:    23 days\n",
              "H2O_cluster_name:           H2O_from_python_unknownUser_vipz2t\n",
              "H2O_cluster_total_nodes:    1\n",
              "H2O_cluster_free_memory:    3.170 Gb\n",
              "H2O_cluster_total_cores:    2\n",
              "H2O_cluster_allowed_cores:  2\n",
              "H2O_cluster_status:         locked, healthy\n",
              "H2O_connection_url:         http://127.0.0.1:54321\n",
              "H2O_connection_proxy:       {\"http\": null, \"https\": null, \"colab_language_server\": \"/usr/colab/bin/language_service\"}\n",
              "H2O_internal_security:      False\n",
              "Python_version:             3.10.12 final\n",
              "--------------------------  -----------------------------------------------------------------------------------------"
            ],
            "text/html": [
              "\n",
              "<style>\n",
              "\n",
              "#h2o-table-1.h2o-container {\n",
              "  overflow-x: auto;\n",
              "}\n",
              "#h2o-table-1 .h2o-table {\n",
              "  /* width: 100%; */\n",
              "  margin-top: 1em;\n",
              "  margin-bottom: 1em;\n",
              "}\n",
              "#h2o-table-1 .h2o-table caption {\n",
              "  white-space: nowrap;\n",
              "  caption-side: top;\n",
              "  text-align: left;\n",
              "  /* margin-left: 1em; */\n",
              "  margin: 0;\n",
              "  font-size: larger;\n",
              "}\n",
              "#h2o-table-1 .h2o-table thead {\n",
              "  white-space: nowrap; \n",
              "  position: sticky;\n",
              "  top: 0;\n",
              "  box-shadow: 0 -1px inset;\n",
              "}\n",
              "#h2o-table-1 .h2o-table tbody {\n",
              "  overflow: auto;\n",
              "}\n",
              "#h2o-table-1 .h2o-table th,\n",
              "#h2o-table-1 .h2o-table td {\n",
              "  text-align: right;\n",
              "  /* border: 1px solid; */\n",
              "}\n",
              "#h2o-table-1 .h2o-table tr:nth-child(even) {\n",
              "  /* background: #F5F5F5 */\n",
              "}\n",
              "\n",
              "</style>      \n",
              "<div id=\"h2o-table-1\" class=\"h2o-container\">\n",
              "  <table class=\"h2o-table\">\n",
              "    <caption></caption>\n",
              "    <thead></thead>\n",
              "    <tbody><tr><td>H2O_cluster_uptime:</td>\n",
              "<td>05 secs</td></tr>\n",
              "<tr><td>H2O_cluster_timezone:</td>\n",
              "<td>Etc/UTC</td></tr>\n",
              "<tr><td>H2O_data_parsing_timezone:</td>\n",
              "<td>UTC</td></tr>\n",
              "<tr><td>H2O_cluster_version:</td>\n",
              "<td>3.46.0.3</td></tr>\n",
              "<tr><td>H2O_cluster_version_age:</td>\n",
              "<td>23 days</td></tr>\n",
              "<tr><td>H2O_cluster_name:</td>\n",
              "<td>H2O_from_python_unknownUser_vipz2t</td></tr>\n",
              "<tr><td>H2O_cluster_total_nodes:</td>\n",
              "<td>1</td></tr>\n",
              "<tr><td>H2O_cluster_free_memory:</td>\n",
              "<td>3.170 Gb</td></tr>\n",
              "<tr><td>H2O_cluster_total_cores:</td>\n",
              "<td>2</td></tr>\n",
              "<tr><td>H2O_cluster_allowed_cores:</td>\n",
              "<td>2</td></tr>\n",
              "<tr><td>H2O_cluster_status:</td>\n",
              "<td>locked, healthy</td></tr>\n",
              "<tr><td>H2O_connection_url:</td>\n",
              "<td>http://127.0.0.1:54321</td></tr>\n",
              "<tr><td>H2O_connection_proxy:</td>\n",
              "<td>{\"http\": null, \"https\": null, \"colab_language_server\": \"/usr/colab/bin/language_service\"}</td></tr>\n",
              "<tr><td>H2O_internal_security:</td>\n",
              "<td>False</td></tr>\n",
              "<tr><td>Python_version:</td>\n",
              "<td>3.10.12 final</td></tr></tbody>\n",
              "  </table>\n",
              "</div>\n"
            ]
          },
          "metadata": {}
        }
      ]
    },
    {
      "cell_type": "code",
      "source": [
        "# Convert to H2OFrame\n",
        "train = h2o.H2OFrame(np.column_stack((X_train, y_train)), column_names=data.feature_names + ['target'])\n",
        "test = h2o.H2OFrame(np.column_stack((X_test, y_test)), column_names=data.feature_names + ['target'])\n",
        "\n",
        "# Define and train the model\n",
        "aml = H2OAutoML(max_runtime_secs=600, seed=42)\n",
        "aml.train(y='target', training_frame=train)"
      ],
      "metadata": {
        "id": "R3IthNRutPoZ"
      },
      "execution_count": null,
      "outputs": []
    },
    {
      "source": [
        "# Predictions and evaluation\n",
        "h2o_predictions = aml.leader.predict(test).as_data_frame()['predict'].to_numpy()\n",
        "# Check if predictions are already class labels\n",
        "if h2o_predictions.ndim == 1:\n",
        "    print(\"Predictions are already in class label format.\")\n",
        "else:\n",
        "    # Convert predictions to class labels if they are probabilities\n",
        "    h2o_predictions = np.argmax(h2o_predictions, axis=1)  # Assuming h2o_predictions is a probability matrix\n",
        "\n",
        "# Check the data type and unique values of y_test and h2o_predictions\n",
        "print(\"Data type of y_test:\", y_test.dtype)\n",
        "print(\"Unique values in y_test:\", np.unique(y_test))\n",
        "\n",
        "print(\"Data type of h2o_predictions:\", h2o_predictions.dtype)\n",
        "print(\"Unique values in h2o_predictions:\", np.unique(h2o_predictions))\n",
        "\n",
        "# Ensure both arrays contain integer class labels\n",
        "y_test = y_test.astype(int)\n",
        "h2o_predictions = h2o_predictions.astype(int)\n",
        "\n",
        "h2o_accuracy = accuracy_score(y_test, h2o_predictions) # This line should now work if both arrays contain discrete class labels\n",
        "print(\"Accuracy:\", h2o_accuracy)"
      ],
      "cell_type": "code",
      "metadata": {
        "id": "063-_mXvwzzv",
        "outputId": "4223c917-9430-4777-8bb8-475dab28b06a",
        "colab": {
          "base_uri": "https://localhost:8080/"
        }
      },
      "execution_count": 20,
      "outputs": [
        {
          "output_type": "stream",
          "name": "stdout",
          "text": [
            "stackedensemble prediction progress: |███████████████████████████████████████████| (done) 100%\n",
            "Predictions are already in class label format.\n",
            "Data type of y_test: int64\n",
            "Unique values in y_test: [0 1 2]\n",
            "Data type of h2o_predictions: float64\n",
            "Unique values in h2o_predictions: [0.00479501 0.00483881 0.00520944 0.00531756 0.00532102 0.00532522\n",
            " 0.00534076 0.00536482 0.91086756 0.99114614 0.99932609 1.00577024\n",
            " 1.00784823 1.01298581 1.01870603 1.02955861 1.03061889 1.21346284\n",
            " 1.21831324 1.80729621 1.86739276 1.89318053 1.9115642  1.9204038\n",
            " 1.9746897  1.99325418 1.99747485 1.99773652 1.99814182 2.00962612]\n",
            "Accuracy: 0.631578947368421\n"
          ]
        },
        {
          "output_type": "stream",
          "name": "stderr",
          "text": [
            "/usr/local/lib/python3.10/dist-packages/h2o/frame.py:1981: H2ODependencyWarning: Converting H2O frame to pandas dataframe using single-thread.  For faster conversion using multi-thread, install polars and pyarrow and use it as pandas_df = h2o_df.as_data_frame(use_multi_thread=True)\n",
            "\n",
            "  warnings.warn(\"Converting H2O frame to pandas dataframe using single-thread.  For faster conversion using\"\n"
          ]
        }
      ]
    },
    {
      "cell_type": "code",
      "source": [
        "# Bayesian Optimization\n",
        "from bayes_opt import BayesianOptimization\n",
        "from sklearn.ensemble import RandomForestClassifier\n",
        "\n",
        "def rf_cv(n_estimators, max_depth, min_samples_split):\n",
        "    model = RandomForestClassifier(n_estimators=int(n_estimators),\n",
        "                                   max_depth=int(max_depth),\n",
        "                                   min_samples_split=int(min_samples_split),\n",
        "                                   random_state=42)\n",
        "    model.fit(X_train, y_train)\n",
        "    return accuracy_score(y_test, model.predict(X_test))\n",
        "\n",
        "bayes_opt = BayesianOptimization(\n",
        "    f=rf_cv,\n",
        "    pbounds={\n",
        "        'n_estimators': (10, 200),\n",
        "        'max_depth': (1, 20),\n",
        "        'min_samples_split': (2, 10),\n",
        "    },\n",
        "    random_state=42,\n",
        "    verbose=2\n",
        ")\n",
        "bayes_opt.maximize(init_points=10, n_iter=50)\n",
        "best_params = bayes_opt.max['params']\n",
        "bayes_rf = RandomForestClassifier(n_estimators=int(best_params['n_estimators']),\n",
        "                                  max_depth=int(best_params['max_depth']),\n",
        "                                  min_samples_split=int(best_params['min_samples_split']),\n",
        "                                  random_state=42)\n",
        "bayes_rf.fit(X_train, y_train)\n",
        "bayes_accuracy = accuracy_score(y_test, bayes_rf.predict(X_test))"
      ],
      "metadata": {
        "id": "_7L_wWDJxJ8P",
        "outputId": "aee6538b-e0b3-419d-e53e-6597e5b62815",
        "colab": {
          "base_uri": "https://localhost:8080/"
        }
      },
      "execution_count": 21,
      "outputs": [
        {
          "output_type": "stream",
          "name": "stdout",
          "text": [
            "|   iter    |  target   | max_depth | min_sa... | n_esti... |\n",
            "-------------------------------------------------------------\n",
            "| \u001b[30m1         | \u001b[30m1.0       | \u001b[30m8.116     | \u001b[30m9.606     | \u001b[30m149.1     |\n",
            "| \u001b[30m2         | \u001b[30m1.0       | \u001b[30m12.37     | \u001b[30m3.248     | \u001b[30m39.64     |\n",
            "| \u001b[30m3         | \u001b[30m1.0       | \u001b[30m2.104     | \u001b[30m8.929     | \u001b[30m124.2     |\n",
            "| \u001b[30m4         | \u001b[30m1.0       | \u001b[30m14.45     | \u001b[30m2.165     | \u001b[30m194.3     |\n",
            "| \u001b[30m5         | \u001b[30m1.0       | \u001b[30m16.82     | \u001b[30m3.699     | \u001b[30m44.55     |\n",
            "| \u001b[30m6         | \u001b[30m1.0       | \u001b[30m4.485     | \u001b[30m4.434     | \u001b[30m109.7     |\n",
            "| \u001b[30m7         | \u001b[30m1.0       | \u001b[30m9.207     | \u001b[30m4.33      | \u001b[30m126.3     |\n",
            "| \u001b[30m8         | \u001b[30m1.0       | \u001b[30m3.65      | \u001b[30m4.337     | \u001b[30m79.61     |\n",
            "| \u001b[30m9         | \u001b[30m1.0       | \u001b[30m9.665     | \u001b[30m8.281     | \u001b[30m47.94     |\n",
            "| \u001b[30m10        | \u001b[30m1.0       | \u001b[30m10.77     | \u001b[30m6.739     | \u001b[30m18.83     |\n",
            "| \u001b[30m11        | \u001b[30m1.0       | \u001b[30m19.79     | \u001b[30m8.992     | \u001b[30m199.6     |\n",
            "| \u001b[30m12        | \u001b[30m1.0       | \u001b[30m1.091     | \u001b[30m3.722     | \u001b[30m199.8     |\n",
            "| \u001b[30m13        | \u001b[30m1.0       | \u001b[30m19.34     | \u001b[30m9.988     | \u001b[30m10.33     |\n",
            "| \u001b[30m14        | \u001b[30m1.0       | \u001b[30m19.79     | \u001b[30m9.728     | \u001b[30m199.4     |\n",
            "| \u001b[30m15        | \u001b[30m1.0       | \u001b[30m1.058     | \u001b[30m2.228     | \u001b[30m10.11     |\n",
            "| \u001b[30m16        | \u001b[30m1.0       | \u001b[30m2.337     | \u001b[30m2.051     | \u001b[30m199.5     |\n",
            "| \u001b[30m17        | \u001b[30m1.0       | \u001b[30m19.04     | \u001b[30m9.818     | \u001b[30m10.23     |\n",
            "| \u001b[30m18        | \u001b[30m1.0       | \u001b[30m19.66     | \u001b[30m9.822     | \u001b[30m199.4     |\n",
            "| \u001b[30m19        | \u001b[30m1.0       | \u001b[30m1.669     | \u001b[30m2.849     | \u001b[30m10.12     |\n",
            "| \u001b[30m20        | \u001b[30m1.0       | \u001b[30m1.119     | \u001b[30m2.266     | \u001b[30m198.1     |\n",
            "| \u001b[30m21        | \u001b[30m1.0       | \u001b[30m19.77     | \u001b[30m9.785     | \u001b[30m10.59     |\n",
            "| \u001b[30m22        | \u001b[30m1.0       | \u001b[30m18.92     | \u001b[30m8.626     | \u001b[30m199.8     |\n",
            "| \u001b[30m23        | \u001b[30m1.0       | \u001b[30m1.337     | \u001b[30m2.086     | \u001b[30m10.76     |\n",
            "| \u001b[30m24        | \u001b[30m1.0       | \u001b[30m1.02      | \u001b[30m4.656     | \u001b[30m199.1     |\n",
            "| \u001b[30m25        | \u001b[30m1.0       | \u001b[30m19.54     | \u001b[30m9.931     | \u001b[30m11.88     |\n",
            "| \u001b[30m26        | \u001b[30m1.0       | \u001b[30m19.19     | \u001b[30m2.396     | \u001b[30m199.1     |\n",
            "| \u001b[30m27        | \u001b[30m1.0       | \u001b[30m1.302     | \u001b[30m9.636     | \u001b[30m10.36     |\n",
            "| \u001b[30m28        | \u001b[30m1.0       | \u001b[30m1.466     | \u001b[30m9.861     | \u001b[30m199.7     |\n",
            "| \u001b[30m29        | \u001b[30m1.0       | \u001b[30m19.96     | \u001b[30m3.603     | \u001b[30m10.66     |\n",
            "| \u001b[30m30        | \u001b[30m1.0       | \u001b[30m19.55     | \u001b[30m2.805     | \u001b[30m198.9     |\n",
            "| \u001b[30m31        | \u001b[30m1.0       | \u001b[30m1.323     | \u001b[30m3.115     | \u001b[30m10.49     |\n",
            "| \u001b[30m32        | \u001b[30m1.0       | \u001b[30m1.537     | \u001b[30m9.374     | \u001b[30m199.0     |\n",
            "| \u001b[30m33        | \u001b[30m1.0       | \u001b[30m19.69     | \u001b[30m2.195     | \u001b[30m11.36     |\n",
            "| \u001b[30m34        | \u001b[30m1.0       | \u001b[30m19.87     | \u001b[30m7.564     | \u001b[30m200.0     |\n",
            "| \u001b[30m35        | \u001b[30m1.0       | \u001b[30m1.645     | \u001b[30m9.766     | \u001b[30m10.96     |\n",
            "| \u001b[30m36        | \u001b[30m1.0       | \u001b[30m1.571     | \u001b[30m3.019     | \u001b[30m199.9     |\n",
            "| \u001b[30m37        | \u001b[30m1.0       | \u001b[30m19.99     | \u001b[30m9.269     | \u001b[30m11.22     |\n",
            "| \u001b[30m38        | \u001b[30m1.0       | \u001b[30m19.75     | \u001b[30m2.543     | \u001b[30m198.8     |\n",
            "| \u001b[30m39        | \u001b[30m1.0       | \u001b[30m1.424     | \u001b[30m2.586     | \u001b[30m10.79     |\n",
            "| \u001b[30m40        | \u001b[30m1.0       | \u001b[30m1.117     | \u001b[30m9.857     | \u001b[30m197.4     |\n",
            "| \u001b[30m41        | \u001b[30m1.0       | \u001b[30m19.7      | \u001b[30m2.686     | \u001b[30m11.4      |\n",
            "| \u001b[30m42        | \u001b[30m1.0       | \u001b[30m19.98     | \u001b[30m2.584     | \u001b[30m198.0     |\n",
            "| \u001b[30m43        | \u001b[30m1.0       | \u001b[30m1.137     | \u001b[30m9.418     | \u001b[30m11.97     |\n",
            "| \u001b[30m44        | \u001b[30m1.0       | \u001b[30m1.317     | \u001b[30m2.6       | \u001b[30m199.9     |\n",
            "| \u001b[30m45        | \u001b[30m1.0       | \u001b[30m19.84     | \u001b[30m9.24      | \u001b[30m10.25     |\n",
            "| \u001b[30m46        | \u001b[30m1.0       | \u001b[30m1.001     | \u001b[30m2.432     | \u001b[30m10.59     |\n",
            "| \u001b[30m47        | \u001b[30m1.0       | \u001b[30m19.94     | \u001b[30m8.788     | \u001b[30m197.7     |\n",
            "| \u001b[30m48        | \u001b[30m1.0       | \u001b[30m1.003     | \u001b[30m2.743     | \u001b[30m199.5     |\n",
            "| \u001b[30m49        | \u001b[30m1.0       | \u001b[30m19.82     | \u001b[30m2.834     | \u001b[30m13.46     |\n",
            "| \u001b[30m50        | \u001b[30m1.0       | \u001b[30m18.98     | \u001b[30m9.671     | \u001b[30m199.9     |\n",
            "| \u001b[30m51        | \u001b[30m1.0       | \u001b[30m1.296     | \u001b[30m2.515     | \u001b[30m10.04     |\n",
            "| \u001b[30m52        | \u001b[30m1.0       | \u001b[30m1.285     | \u001b[30m8.523     | \u001b[30m199.9     |\n",
            "| \u001b[30m53        | \u001b[30m1.0       | \u001b[30m19.33     | \u001b[30m9.452     | \u001b[30m10.62     |\n",
            "| \u001b[30m54        | \u001b[30m1.0       | \u001b[30m1.005     | \u001b[30m9.105     | \u001b[30m10.52     |\n",
            "| \u001b[30m55        | \u001b[30m1.0       | \u001b[30m19.65     | \u001b[30m2.591     | \u001b[30m199.2     |\n",
            "| \u001b[30m56        | \u001b[30m1.0       | \u001b[30m1.137     | \u001b[30m9.776     | \u001b[30m199.2     |\n",
            "| \u001b[30m57        | \u001b[30m1.0       | \u001b[30m19.72     | \u001b[30m2.281     | \u001b[30m11.44     |\n",
            "| \u001b[30m58        | \u001b[30m1.0       | \u001b[30m19.39     | \u001b[30m2.417     | \u001b[30m199.9     |\n",
            "| \u001b[30m59        | \u001b[30m1.0       | \u001b[30m1.402     | \u001b[30m9.447     | \u001b[30m10.25     |\n",
            "| \u001b[30m60        | \u001b[30m1.0       | \u001b[30m1.353     | \u001b[30m2.048     | \u001b[30m198.4     |\n",
            "=============================================================\n"
          ]
        }
      ]
    },
    {
      "cell_type": "code",
      "source": [
        "# Hyperband\n",
        "import hpbandster.core.nameserver as hpns\n",
        "import hpbandster.core.result as hpres\n",
        "from hpbandster.optimizers import BOHB\n",
        "from hpbandster.examples.commons import RandomForest\n",
        "\n",
        "class RandomForestWorker(RandomForest):\n",
        "    def compute(self, config, budget, **kwargs):\n",
        "        n_estimators = config['n_estimators']\n",
        "        max_depth = config['max_depth']\n",
        "        min_samples_split = config['min_samples_split']\n",
        "        model = RandomForestClassifier(n_estimators=int(n_estimators),\n",
        "                                       max_depth=int(max_depth),\n",
        "                                       min_samples_split=int(min_samples_split),\n",
        "                                       random_state=42)\n",
        "        model.fit(X_train, y_train)\n",
        "        return (-accuracy_score(y_test, model.predict(X_test)))\n",
        "\n",
        "NS = hpns.NameServer(run_id='example1', host='127.0.0.1', port=None)\n",
        "NS.start()\n",
        "worker = RandomForestWorker(nameserver='127.0.0.1', run_id='example1')\n",
        "bohb = BOHB(configspace=worker.get_configspace(),\n",
        "            run_id='example1',\n",
        "            nameserver='127.0.0.1',\n",
        "            min_budget=1,\n",
        "            max_budget=9)\n",
        "res = bohb.run(n_iterations=4)\n",
        "best_config = res.get_id2config_mapping()[res.get_incumbent_id()]['config']\n",
        "hyperband_rf = RandomForestClassifier(n_estimators=int(best_config['n_estimators']),\n",
        "                                      max_depth=int(best_config['max_depth']),\n",
        "                                      min_samples_split=int(best_config['min_samples_split']),\n",
        "                                      random_state=42)\n",
        "hyperband_rf.fit(X_train, y_train)\n",
        "hyperband_accuracy = accuracy_score(y_test, hyperband_rf.predict(X_test))"
      ],
      "metadata": {
        "id": "4rNNcm3pxdmm",
        "outputId": "888fde73-b512-43ac-a679-29b91fa939ee",
        "colab": {
          "base_uri": "https://localhost:8080/",
          "height": 401
        }
      },
      "execution_count": 22,
      "outputs": [
        {
          "output_type": "error",
          "ename": "ImportError",
          "evalue": "cannot import name 'RandomForest' from 'hpbandster.examples.commons' (/usr/local/lib/python3.10/dist-packages/hpbandster/examples/commons.py)",
          "traceback": [
            "\u001b[0;31m---------------------------------------------------------------------------\u001b[0m",
            "\u001b[0;31mImportError\u001b[0m                               Traceback (most recent call last)",
            "\u001b[0;32m<ipython-input-22-10992939813a>\u001b[0m in \u001b[0;36m<cell line: 5>\u001b[0;34m()\u001b[0m\n\u001b[1;32m      3\u001b[0m \u001b[0;32mimport\u001b[0m \u001b[0mhpbandster\u001b[0m\u001b[0;34m.\u001b[0m\u001b[0mcore\u001b[0m\u001b[0;34m.\u001b[0m\u001b[0mresult\u001b[0m \u001b[0;32mas\u001b[0m \u001b[0mhpres\u001b[0m\u001b[0;34m\u001b[0m\u001b[0;34m\u001b[0m\u001b[0m\n\u001b[1;32m      4\u001b[0m \u001b[0;32mfrom\u001b[0m \u001b[0mhpbandster\u001b[0m\u001b[0;34m.\u001b[0m\u001b[0moptimizers\u001b[0m \u001b[0;32mimport\u001b[0m \u001b[0mBOHB\u001b[0m\u001b[0;34m\u001b[0m\u001b[0;34m\u001b[0m\u001b[0m\n\u001b[0;32m----> 5\u001b[0;31m \u001b[0;32mfrom\u001b[0m \u001b[0mhpbandster\u001b[0m\u001b[0;34m.\u001b[0m\u001b[0mexamples\u001b[0m\u001b[0;34m.\u001b[0m\u001b[0mcommons\u001b[0m \u001b[0;32mimport\u001b[0m \u001b[0mRandomForest\u001b[0m\u001b[0;34m\u001b[0m\u001b[0;34m\u001b[0m\u001b[0m\n\u001b[0m\u001b[1;32m      6\u001b[0m \u001b[0;34m\u001b[0m\u001b[0m\n\u001b[1;32m      7\u001b[0m \u001b[0;32mclass\u001b[0m \u001b[0mRandomForestWorker\u001b[0m\u001b[0;34m(\u001b[0m\u001b[0mRandomForest\u001b[0m\u001b[0;34m)\u001b[0m\u001b[0;34m:\u001b[0m\u001b[0;34m\u001b[0m\u001b[0;34m\u001b[0m\u001b[0m\n",
            "\u001b[0;31mImportError\u001b[0m: cannot import name 'RandomForest' from 'hpbandster.examples.commons' (/usr/local/lib/python3.10/dist-packages/hpbandster/examples/commons.py)",
            "",
            "\u001b[0;31m---------------------------------------------------------------------------\u001b[0;32m\nNOTE: If your import is failing due to a missing package, you can\nmanually install dependencies using either !pip or !apt.\n\nTo view examples of installing some common dependencies, click the\n\"Open Examples\" button below.\n\u001b[0;31m---------------------------------------------------------------------------\u001b[0m\n"
          ],
          "errorDetails": {
            "actions": [
              {
                "action": "open_url",
                "actionText": "Open Examples",
                "url": "/notebooks/snippets/importing_libraries.ipynb"
              }
            ]
          }
        }
      ]
    },
    {
      "cell_type": "code",
      "source": [
        "!pip install hpbandster ConfigSpace"
      ],
      "metadata": {
        "id": "FDRrKuCUxz0p",
        "outputId": "48e8ba93-8392-433f-b3c3-2c95500c8ca3",
        "colab": {
          "base_uri": "https://localhost:8080/"
        }
      },
      "execution_count": 23,
      "outputs": [
        {
          "output_type": "stream",
          "name": "stdout",
          "text": [
            "Requirement already satisfied: hpbandster in /usr/local/lib/python3.10/dist-packages (0.7.4)\n",
            "Requirement already satisfied: ConfigSpace in /usr/local/lib/python3.10/dist-packages (0.7.1)\n",
            "Requirement already satisfied: Pyro4 in /usr/local/lib/python3.10/dist-packages (from hpbandster) (4.82)\n",
            "Requirement already satisfied: serpent in /usr/local/lib/python3.10/dist-packages (from hpbandster) (1.41)\n",
            "Requirement already satisfied: numpy in /usr/local/lib/python3.10/dist-packages (from hpbandster) (1.25.2)\n",
            "Requirement already satisfied: statsmodels in /usr/local/lib/python3.10/dist-packages (from hpbandster) (0.14.2)\n",
            "Requirement already satisfied: scipy in /usr/local/lib/python3.10/dist-packages (from hpbandster) (1.11.4)\n",
            "Requirement already satisfied: netifaces in /usr/local/lib/python3.10/dist-packages (from hpbandster) (0.11.0)\n",
            "Requirement already satisfied: pyparsing in /usr/local/lib/python3.10/dist-packages (from ConfigSpace) (3.1.2)\n",
            "Requirement already satisfied: typing-extensions in /usr/local/lib/python3.10/dist-packages (from ConfigSpace) (4.12.2)\n",
            "Requirement already satisfied: more-itertools in /usr/local/lib/python3.10/dist-packages (from ConfigSpace) (10.1.0)\n",
            "Requirement already satisfied: pandas!=2.1.0,>=1.4 in /usr/local/lib/python3.10/dist-packages (from statsmodels->hpbandster) (2.0.3)\n",
            "Requirement already satisfied: patsy>=0.5.6 in /usr/local/lib/python3.10/dist-packages (from statsmodels->hpbandster) (0.5.6)\n",
            "Requirement already satisfied: packaging>=21.3 in /usr/local/lib/python3.10/dist-packages (from statsmodels->hpbandster) (24.1)\n",
            "Requirement already satisfied: python-dateutil>=2.8.2 in /usr/local/lib/python3.10/dist-packages (from pandas!=2.1.0,>=1.4->statsmodels->hpbandster) (2.8.2)\n",
            "Requirement already satisfied: pytz>=2020.1 in /usr/local/lib/python3.10/dist-packages (from pandas!=2.1.0,>=1.4->statsmodels->hpbandster) (2023.4)\n",
            "Requirement already satisfied: tzdata>=2022.1 in /usr/local/lib/python3.10/dist-packages (from pandas!=2.1.0,>=1.4->statsmodels->hpbandster) (2024.1)\n",
            "Requirement already satisfied: six in /usr/local/lib/python3.10/dist-packages (from patsy>=0.5.6->statsmodels->hpbandster) (1.16.0)\n",
            "\u001b[33mWARNING: Running pip as the 'root' user can result in broken permissions and conflicting behaviour with the system package manager, possibly rendering your system unusable.It is recommended to use a virtual environment instead: https://pip.pypa.io/warnings/venv. Use the --root-user-action option if you know what you are doing and want to suppress this warning.\u001b[0m\u001b[33m\n",
            "\u001b[0m"
          ]
        }
      ]
    },
    {
      "cell_type": "code",
      "source": [
        "import hpbandster.core.nameserver as hpns\n",
        "import hpbandster.core.result as hpres\n",
        "from hpbandster.optimizers import BOHB\n",
        "from hpbandster.core.worker import Worker\n",
        "from sklearn.ensemble import RandomForestClassifier\n",
        "from ConfigSpace import ConfigurationSpace\n",
        "from ConfigSpace.hyperparameters import UniformIntegerHyperparameter"
      ],
      "metadata": {
        "id": "ZkVvoVFfx7hG"
      },
      "execution_count": 24,
      "outputs": []
    },
    {
      "source": [
        "class RandomForestWorker(Worker): # Inherit directly from hpbandster.core.worker.Worker\n",
        "    def __init__(self, *args, sleep_interval=0, **kwargs):\n",
        "        # Pass sleep_interval as a positional argument\n",
        "        super().__init__(sleep_interval, *args, **kwargs)\n",
        "\n",
        "    def compute(self, config, budget, **kwargs):\n",
        "        n_estimators = config['n_estimators']\n",
        "        max_depth = config['max_depth']\n",
        "        min_samples_split = config['min_samples_split']\n",
        "        model = RandomForestClassifier(n_estimators=int(n_estimators),\n",
        "                                       max_depth=int(max_depth),\n",
        "                                       min_samples_split=int(min_samples_split),\n",
        "                                       random_state=42)\n",
        "        model.fit(X_train, y_train)\n",
        "        return ({\n",
        "            'loss': -accuracy_score(y_test, model.predict(X_test)),  # Minimize negative accuracy\n",
        "            'info': {}  # Optional additional information about the run\n",
        "        })\n",
        "\n",
        "    @staticmethod\n",
        "    def get_configspace():\n",
        "        cs = ConfigurationSpace()\n",
        "        cs.add_hyperparameter(UniformIntegerHyperparameter('n_estimators', lower=10, upper=200))\n",
        "        cs.add_hyperparameter(UniformIntegerHyperparameter('max_depth', lower=1, upper=20))\n",
        "        cs.add_hyperparameter(UniformIntegerHyperparameter('min_samples_split', lower=2, upper=10))\n",
        "        return cs\n",
        "\n",
        "NS = hpns.NameServer(run_id='example1', host='127.0.0.1', port=None)\n",
        "NS.start()\n",
        "worker = RandomForestWorker(nameserver='127.0.0.1', run_id='example1')\n",
        "worker.run(background=True) # Run worker in the background\n",
        "bohb = BOHB(configspace=worker.get_configspace(),\n",
        "            run_id='example1',\n",
        "            nameserver='127.0.0.1',\n",
        "            min_budget=1,\n",
        "            max_budget=9)\n",
        "res = bohb.run(n_iterations=4)\n",
        "bohb.shutdown(shutdown_workers=True) # Shutdown the worker\n",
        "NS.shutdown() # Shutdown the nameserver\n",
        "\n",
        "best_config = res.get_id2config_mapping()[res.get_incumbent_id()]['config']\n",
        "hyperband_rf = RandomForestClassifier(n_estimators=int(best_config['n_estimators']),\n",
        "                                      max_depth=int(best_config['max_depth']),\n",
        "                                      min_samples_split=int(best_config['min_samples_split']),\n",
        "                                      random_state=42)\n",
        "hyperband_rf.fit(X_train, y_train)\n",
        "hyperband_accuracy = accuracy_score(y_test, hyperband_rf.predict(X_test))\n",
        "print(\"Hyperband Accuracy:\", hyperband_accuracy)"
      ],
      "cell_type": "code",
      "metadata": {
        "id": "yX83BdRNxyFF"
      },
      "execution_count": null,
      "outputs": []
    },
    {
      "cell_type": "code",
      "source": [
        "# Genetic Algorithms\n",
        "from deap import base, creator, tools, algorithms\n",
        "\n",
        "# Genetic Algorithm to optimize hyperparameters for RandomForest\n",
        "def eval_rf(individual):\n",
        "    n_estimators, max_depth, min_samples_split = individual\n",
        "    model = RandomForestClassifier(n_estimators=int(n_estimators),\n",
        "                                   max_depth=int(max_depth),\n",
        "                                   min_samples_split=int(min_samples_split),\n",
        "                                   random_state=42)\n",
        "    model.fit(X_train, y_train)\n",
        "    return accuracy_score(y_test, model.predict(X_test)),\n",
        "\n",
        "creator.create(\"FitnessMax\", base.Fitness, weights=(1.0,))\n",
        "creator.create(\"Individual\", list, fitness=creator.FitnessMax)\n",
        "\n",
        "toolbox = base.Toolbox()\n",
        "toolbox.register(\"attr_int\", np.random.randint, 10, 200)\n",
        "toolbox.register(\"individual\", tools.initCycle, creator.Individual,\n",
        "                 (toolbox.attr_int, toolbox.attr_int, toolbox.attr_int), n=1)\n",
        "toolbox.register(\"population\", tools.initRepeat, list, toolbox.individual)\n",
        "\n",
        "toolbox.register(\"mate\", tools.cxTwoPoint)\n",
        "toolbox.register(\"mutate\", tools.mutUniformInt, low=[10, 1, 2], up=[200, 20, 10], indpb=0.2)\n",
        "toolbox.register(\"select\", tools.selTournament, tournsize=3)\n",
        "toolbox.register(\"evaluate\", eval_rf)\n",
        "\n",
        "population = toolbox.population(n=20)\n",
        "algorithms.eaSimple(population, toolbox, cxpb=0.5, mutpb=0.2, ngen=40, verbose=False)\n",
        "\n",
        "best_individual = tools.selBest(population, 1)[0]\n",
        "genetic_rf = RandomForestClassifier(n_estimators=int(best_individual[0]),\n",
        "                                    max_depth=int(best_individual[1]),\n",
        "                                    min_samples_split=int(best_individual[2]),\n",
        "                                    random_state=42)\n",
        "genetic_rf.fit(X_train, y_train)\n",
        "genetic_accuracy = accuracy_score(y_test, genetic_rf.predict(X_test))"
      ],
      "metadata": {
        "id": "aEN-F1JIzzOR",
        "outputId": "644a8bc1-866e-462b-cc4a-1a215fca7e19",
        "colab": {
          "base_uri": "https://localhost:8080/"
        }
      },
      "execution_count": 32,
      "outputs": [
        {
          "output_type": "stream",
          "name": "stderr",
          "text": [
            "/usr/local/lib/python3.10/dist-packages/deap/creator.py:185: RuntimeWarning: A class named 'FitnessMax' has already been created and it will be overwritten. Consider deleting previous creation of that class or rename it.\n",
            "  warnings.warn(\"A class named '{0}' has already been created and it \"\n",
            "/usr/local/lib/python3.10/dist-packages/deap/creator.py:185: RuntimeWarning: A class named 'Individual' has already been created and it will be overwritten. Consider deleting previous creation of that class or rename it.\n",
            "  warnings.warn(\"A class named '{0}' has already been created and it \"\n"
          ]
        }
      ]
    }
  ]
}